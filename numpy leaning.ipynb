{
 "cells": [
  {
   "cell_type": "code",
   "execution_count": 3,
   "id": "8803a83a",
   "metadata": {},
   "outputs": [],
   "source": [
    "import numpy as np"
   ]
  },
  {
   "cell_type": "code",
   "execution_count": 11,
   "id": "06b02eca",
   "metadata": {},
   "outputs": [
    {
     "name": "stdout",
     "output_type": "stream",
     "text": [
      "the array-  [1, 2, 33, 3, 4, 5, 0]\n",
      "the np array-  [ 1  2 33  3  4  5  0]\n",
      "the array type-  <class 'list'>\n",
      "the np array type-  <class 'numpy.ndarray'>\n"
     ]
    }
   ],
   "source": [
    "a = [1,2,33,3,4,5,0]\n",
    "b = np.array(a)\n",
    "\n",
    "print(\"the array- \", a)\n",
    "print(\"the np array- \", b)\n",
    "\n",
    "\n",
    "print(\"the array type- \", type(a))\n",
    "print(\"the np array type- \", type(b))"
   ]
  },
  {
   "cell_type": "code",
   "execution_count": 21,
   "id": "b2b5a414",
   "metadata": {},
   "outputs": [
    {
     "name": "stdout",
     "output_type": "stream",
     "text": [
      "['1' '3' '4' 'a' 'd' '3' '4']\n",
      "that is the numpy default behavior, when one is string in array the complete\n",
      "array become a array of string values\n"
     ]
    }
   ],
   "source": [
    "mixedUpArray = [1,3,4,\"a\",\"d\",3,4]\n",
    "b = np.array(mixedUpArray)\n",
    "\n",
    "print(b)\n",
    "print(\"that is the numpy default behavior, when one is string in array the complete\\narray become a array of string values\")"
   ]
  },
  {
   "cell_type": "code",
   "execution_count": 25,
   "id": "78cdea77",
   "metadata": {},
   "outputs": [
    {
     "ename": "ValueError",
     "evalue": "invalid literal for int() with base 10: 'a'",
     "output_type": "error",
     "traceback": [
      "\u001b[1;31m---------------------------------------------------------------------------\u001b[0m",
      "\u001b[1;31mValueError\u001b[0m                                Traceback (most recent call last)",
      "Cell \u001b[1;32mIn[25], line 2\u001b[0m\n\u001b[0;32m      1\u001b[0m mixedUpArray \u001b[38;5;241m=\u001b[39m [\u001b[38;5;241m1\u001b[39m,\u001b[38;5;241m3\u001b[39m,\u001b[38;5;241m4\u001b[39m,\u001b[38;5;124m\"\u001b[39m\u001b[38;5;124ma\u001b[39m\u001b[38;5;124m\"\u001b[39m,\u001b[38;5;124m\"\u001b[39m\u001b[38;5;124md\u001b[39m\u001b[38;5;124m\"\u001b[39m,\u001b[38;5;241m3\u001b[39m,\u001b[38;5;241m4\u001b[39m]\n\u001b[1;32m----> 2\u001b[0m b \u001b[38;5;241m=\u001b[39m np\u001b[38;5;241m.\u001b[39marray(mixedUpArray, dtype\u001b[38;5;241m=\u001b[39m\u001b[38;5;28mint\u001b[39m) \u001b[38;5;66;03m# (dtype) change the array value types\u001b[39;00m\n\u001b[0;32m      4\u001b[0m \u001b[38;5;28mprint\u001b[39m(b)\n",
      "\u001b[1;31mValueError\u001b[0m: invalid literal for int() with base 10: 'a'"
     ]
    }
   ],
   "source": [
    "mixedUpArray = [1,3,4,\"a\",\"d\",3,4]\n",
    "b = np.array(mixedUpArray, dtype=int) # (dtype) change the array value types\n",
    "\n",
    "print(b) # here this all are not int convertable because /a/ is string"
   ]
  },
  {
   "cell_type": "code",
   "execution_count": 28,
   "id": "bdf02190",
   "metadata": {},
   "outputs": [
    {
     "name": "stdout",
     "output_type": "stream",
     "text": [
      "[ 1  3  4 23  4  3  4]\n"
     ]
    }
   ],
   "source": [
    "mixedUpArray = [1,3,4,\"23\",\"4\",3,4]\n",
    "b = np.array(mixedUpArray, dtype=int) # (dtype) change the array value types\n",
    "\n",
    "print(b) # here this all are int convertable because /23, and 4/ is mainly a int"
   ]
  },
  {
   "cell_type": "markdown",
   "id": "0c4ff99a",
   "metadata": {},
   "source": [
    "# let's check some, more array creating way"
   ]
  },
  {
   "cell_type": "code",
   "execution_count": 33,
   "id": "a8362206",
   "metadata": {},
   "outputs": [
    {
     "name": "stdout",
     "output_type": "stream",
     "text": [
      "['1' '3' '4' '23' '4' '3' '4' '1' '3' '4' '23' '4' '3' '4' '1' '3' '4'\n",
      " '23' '4' '3' '4']\n"
     ]
    }
   ],
   "source": [
    "# repeat array creating\n",
    "mixedUpArray = [1,3,4,\"23\",\"4\",3,4]\n",
    "b = np.array(mixedUpArray * 3)\n",
    "print(b) # here in this array the same array repeat 3 time"
   ]
  },
  {
   "cell_type": "markdown",
   "id": "1f131dc5",
   "metadata": {},
   "source": [
    "# let's check this 4 way\n",
    "\n",
    "### np.ones()\n",
    "### np.zeros()\n",
    "### np.full()\n",
    "### np.empty()"
   ]
  },
  {
   "cell_type": "code",
   "execution_count": 49,
   "id": "53299e89",
   "metadata": {},
   "outputs": [
    {
     "name": "stdout",
     "output_type": "stream",
     "text": [
      "b->  [1. 1. 1.]\n",
      "\n",
      "c->  [1 1 1]\n",
      "\n",
      "d->  [[1. 1. 1. 1. 1.]\n",
      " [1. 1. 1. 1. 1.]\n",
      " [1. 1. 1. 1. 1.]]\n"
     ]
    }
   ],
   "source": [
    "b = np.ones(3)\n",
    "c = np.ones(3, dtype=int) # flot value to int value\n",
    "d = np.ones((3,5))\n",
    "\n",
    "print(\"b-> \", b)\n",
    "print()\n",
    "print(\"c-> \", c)\n",
    "print()\n",
    "print(\"d-> \", d)"
   ]
  },
  {
   "cell_type": "code",
   "execution_count": 39,
   "id": "9263f3f3",
   "metadata": {},
   "outputs": [
    {
     "name": "stdout",
     "output_type": "stream",
     "text": [
      "[0. 0. 0.]\n"
     ]
    }
   ],
   "source": [
    "b = np.zeros(3)\n",
    "print(b)"
   ]
  },
  {
   "cell_type": "code",
   "execution_count": 42,
   "id": "4160d236",
   "metadata": {},
   "outputs": [
    {
     "name": "stdout",
     "output_type": "stream",
     "text": [
      "[5 5 5]\n"
     ]
    }
   ],
   "source": [
    "b = np.full(3, 5) # at first u need to send size of array and then u need to send the value what using u try to fell the array\n",
    "print(b)"
   ]
  },
  {
   "cell_type": "code",
   "execution_count": 93,
   "id": "e3fcaced",
   "metadata": {},
   "outputs": [
    {
     "name": "stdout",
     "output_type": "stream",
     "text": [
      "[[4.67296746e-307 1.69121096e-306 9.34609111e-307 1.11256817e-306]\n",
      " [1.06811422e-306 1.42417221e-306 1.11260619e-306 8.90094053e-307]\n",
      " [1.86919378e-306 1.06809792e-306 1.37962456e-306 1.69111861e-306]\n",
      " [1.78020169e-306 1.37961777e-306 7.56599807e-307 7.56599806e-307]]\n",
      "\n",
      "for more knowledge check this link->  https://numpy.org/doc/stable/reference/generated/numpy.empty.html\n"
     ]
    }
   ],
   "source": [
    "b = np.empty((4,4))\n",
    "\n",
    "print(b)\n",
    "print()\n",
    "print(\"for more knowledge check this link-> \", \"https://numpy.org/doc/stable/reference/generated/numpy.empty.html\")"
   ]
  },
  {
   "cell_type": "markdown",
   "id": "e12eb8bc",
   "metadata": {},
   "source": [
    "# let's know more some\n",
    "#\n",
    "## group 1 is\n",
    "### np.arange()\n",
    "### np.linspace()\n",
    "#\n",
    "## group 2 is\n",
    "### np.identity()\n",
    "### np.eye()\n",
    "#\n",
    "## group 3 is\n",
    "### np.random.rand()\n",
    "#"
   ]
  },
  {
   "cell_type": "code",
   "execution_count": 97,
   "id": "4697c876",
   "metadata": {},
   "outputs": [
    {
     "name": "stdout",
     "output_type": "stream",
     "text": [
      "[2 3 4 5 6 7 8 9]\n"
     ]
    }
   ],
   "source": [
    "a = np.arange(2,10) # this is like a for loop -> 2 to 10 then you get this array [2 3 4 5 6 7 8 9]\n",
    "\n",
    "print(a)"
   ]
  },
  {
   "cell_type": "code",
   "execution_count": 101,
   "id": "4b749b83",
   "metadata": {},
   "outputs": [
    {
     "name": "stdout",
     "output_type": "stream",
     "text": [
      "[ 2.          2.88888889  3.77777778  4.66666667  5.55555556  6.44444444\n",
      "  7.33333333  8.22222222  9.11111111 10.        ]\n"
     ]
    }
   ],
   "source": [
    "a = np.linspace(2, 10, 10) # parameter-> (start from here, end here, make slice this much)\n",
    "# if u never give the sliceing size, then that slice 50 time by default\n",
    "\n",
    "print(a)"
   ]
  },
  {
   "cell_type": "code",
   "execution_count": 106,
   "id": "338ba2a3",
   "metadata": {},
   "outputs": [
    {
     "name": "stdout",
     "output_type": "stream",
     "text": [
      "a->  [[1. 0. 0.]\n",
      " [0. 1. 0.]\n",
      " [0. 0. 1.]]\n",
      "\n",
      "b->  [[1. 0. 0. 0.]\n",
      " [0. 1. 0. 0.]\n",
      " [0. 0. 1. 0.]]\n"
     ]
    }
   ],
   "source": [
    "a = np.identity(3) # identity take just n as a perameter\n",
    "b = np.eye(3,4) # eye take n,m bosth as a perameter\n",
    "\n",
    "print(\"a-> \", a)\n",
    "print()\n",
    "print(\"b-> \", b)"
   ]
  },
  {
   "cell_type": "code",
   "execution_count": 141,
   "id": "ed1f9465",
   "metadata": {},
   "outputs": [
    {
     "name": "stdout",
     "output_type": "stream",
     "text": [
      "a->  [[0.38652441 0.24836204 0.79295716]\n",
      " [0.21933978 0.63499349 0.40521106]\n",
      " [0.46537203 0.05555579 0.59529873]]\n",
      "\n",
      "b->  [[3.86524406 2.48362036 7.92957164]\n",
      " [2.19339783 6.34993494 4.05211064]\n",
      " [4.65372032 0.55555792 5.95298727]]\n",
      "\n",
      "c->  [25  9  3 18]\n",
      "for more good undersanding->  https://numpy.org/doc/stable/reference/random/generated/numpy.random.randint.html\n"
     ]
    }
   ],
   "source": [
    "a = np.random.rand(3,3) # randome.rand always give you inside 0-1 value randomly\n",
    "\n",
    "# but if u need more then 0-1, then multimly this number. like that way:\n",
    "b = a*10 # or [b = np.random.rand(3,3)*10]\n",
    "\n",
    "# if you need int value\n",
    "c = np.random.randint(30, size = 4)\n",
    "\n",
    "print(\"a-> \", a)\n",
    "print()\n",
    "print(\"b-> \", b)\n",
    "print()\n",
    "print(\"c-> \", c)\n",
    "print(\"for more good undersanding-> \", \"https://numpy.org/doc/stable/reference/random/generated/numpy.random.randint.html\")"
   ]
  },
  {
   "cell_type": "markdown",
   "id": "93951c52",
   "metadata": {},
   "source": [
    "\n",
    "# why numpy is SUPER-STAR in python array world.\n",
    "check out down"
   ]
  },
  {
   "cell_type": "code",
   "execution_count": 24,
   "id": "9fea71aa",
   "metadata": {},
   "outputs": [
    {
     "name": "stdout",
     "output_type": "stream",
     "text": [
      "[1, 2, 3, 4, 5]\n",
      "[1 2 3 4 5]\n"
     ]
    }
   ],
   "source": [
    "import numpy as np\n",
    "\n",
    "li = [1, 2, 3, 4, 5]\n",
    "arr = np.array(li)\n",
    "\n",
    "print(li)\n",
    "print(arr)"
   ]
  },
  {
   "cell_type": "code",
   "execution_count": 33,
   "id": "b821fce0",
   "metadata": {},
   "outputs": [
    {
     "name": "stdout",
     "output_type": "stream",
     "text": [
      "<memory at 0x111874a08>\n",
      "(5,)\n",
      "int64\n",
      "(8,)\n"
     ]
    }
   ],
   "source": [
    "print(arr.data)\n",
    "print(arr.shape)\n",
    "print(arr.dtype)\n",
    "print(arr.strides)"
   ]
  },
  {
   "cell_type": "code",
   "execution_count": 35,
   "id": "58937ac9",
   "metadata": {},
   "outputs": [
    {
     "name": "stdout",
     "output_type": "stream",
     "text": [
      "4\n",
      "4\n",
      "[2, 3, 4]\n",
      "[2 3 4]\n"
     ]
    }
   ],
   "source": [
    "print(li[3])\n",
    "print(arr[3])\n",
    "print(li[1:4])\n",
    "print(arr[1:4])"
   ]
  },
  {
   "cell_type": "code",
   "execution_count": 27,
   "id": "5cb0ce04",
   "metadata": {},
   "outputs": [
    {
     "name": "stdout",
     "output_type": "stream",
     "text": [
      "[[1, 2, 3, 4], [5, 6, 7, 8], [9, 10, 11, 12], [13, 14, 15, 16]]\n",
      "[[ 1  2  3  4]\n",
      " [ 5  6  7  8]\n",
      " [ 9 10 11 12]\n",
      " [13 14 15 16]]\n"
     ]
    }
   ],
   "source": [
    "li_2d = [[1, 2, 3, 4], [5, 6, 7, 8], [9, 10, 11, 12], [13, 14, 15, 16]]\n",
    "arr_2d = np.array(li_2d)\n",
    "\n",
    "print(li_2d)\n",
    "print(arr_2d)"
   ]
  },
  {
   "cell_type": "code",
   "execution_count": 44,
   "id": "aeb62adc",
   "metadata": {},
   "outputs": [
    {
     "name": "stdout",
     "output_type": "stream",
     "text": [
      "<memory at 0x11181bea0>\n",
      "(4, 4)\n",
      "int64\n",
      "(32, 8)\n"
     ]
    }
   ],
   "source": [
    "print(arr_2d.data)\n",
    "print(arr_2d.shape)\n",
    "print(arr_2d.dtype)\n",
    "print(arr_2d.strides)"
   ]
  },
  {
   "cell_type": "code",
   "execution_count": 47,
   "id": "430b56fc",
   "metadata": {},
   "outputs": [
    {
     "name": "stdout",
     "output_type": "stream",
     "text": [
      "10\n",
      "10\n",
      "10\n"
     ]
    }
   ],
   "source": [
    "print(li_2d[2][1])\n",
    "print(arr_2d[2][1])\n",
    "print(arr_2d[2, 1])"
   ]
  },
  {
   "cell_type": "code",
   "execution_count": 50,
   "id": "368b3d7d",
   "metadata": {},
   "outputs": [
    {
     "name": "stdout",
     "output_type": "stream",
     "text": [
      "[5, 6, 7]\n",
      "[5 6 7]\n"
     ]
    }
   ],
   "source": [
    "print(li_2d[1][:3])\n",
    "print(arr_2d[1, :3])"
   ]
  },
  {
   "cell_type": "code",
   "execution_count": 52,
   "id": "7cf140d4",
   "metadata": {},
   "outputs": [
    {
     "name": "stdout",
     "output_type": "stream",
     "text": [
      "[9, 10, 11, 12]\n"
     ]
    }
   ],
   "source": [
    "print(li_2d[0:3][2])e"
   ]
  },
  {
   "cell_type": "code",
   "execution_count": 71,
   "id": "e724e469",
   "metadata": {},
   "outputs": [
    {
     "name": "stdout",
     "output_type": "stream",
     "text": [
      "[[1, 2, 3, 4], [5, 6, 7, 8], [9, 10, 11, 12]]\n",
      "[9, 10, 11, 12]\n"
     ]
    }
   ],
   "source": [
    "ex = li_2d[0:3]\n",
    "print(x)\n",
    "y = x[2]\n",
    "print(y)"
   ]
  },
  {
   "cell_type": "code",
   "execution_count": 75,
   "id": "ddd4f246",
   "metadata": {},
   "outputs": [
    {
     "name": "stdout",
     "output_type": "stream",
     "text": [
      "[1, 2, 3, 4]\n"
     ]
    }
   ],
   "source": [
    "print(li_2d[0:3][0])"
   ]
  },
  {
   "cell_type": "code",
   "execution_count": 76,
   "id": "a16ce03d",
   "metadata": {},
   "outputs": [
    {
     "name": "stdout",
     "output_type": "stream",
     "text": [
      "[ 3  7 11]\n"
     ]
    }
   ],
   "source": [
    "print(arr_2d[0:3, 2])"
   ]
  },
  {
   "cell_type": "code",
   "execution_count": 78,
   "id": "762c09be",
   "metadata": {},
   "outputs": [
    {
     "name": "stdout",
     "output_type": "stream",
     "text": [
      "[[10 11]\n",
      " [14 15]]\n",
      "[[13, 14, 15, 16]]\n"
     ]
    }
   ],
   "source": [
    "print(arr_2d[2:4, 1:3])\n",
    "print(li_2d[2:4][1:3])"
   ]
  },
  {
   "cell_type": "markdown",
   "id": "3ed40aeb",
   "metadata": {},
   "source": [
    "# because numpy is super flexible compared to normal array"
   ]
  },
  {
   "cell_type": "code",
   "execution_count": null,
   "id": "458460f0",
   "metadata": {},
   "outputs": [],
   "source": []
  },
  {
   "cell_type": "markdown",
   "id": "31abbe87",
   "metadata": {},
   "source": [
    "# Now we saw the mathmatical intaresting oparetion"
   ]
  },
  {
   "cell_type": "code",
   "execution_count": 8,
   "id": "ad66ef5c",
   "metadata": {},
   "outputs": [
    {
     "name": "stdout",
     "output_type": "stream",
     "text": [
      "[1, 2, 3, 4, 5]\n",
      "[ 2 11  9 15 19]\n",
      "[12 11 11  4 16]\n"
     ]
    }
   ],
   "source": [
    "import numpy as np\n",
    "\n",
    "li = [1, 2, 3, 4, 5]\n",
    "a = np.random.randint(1, 20, 5)\n",
    "b = np.random.randint(1, 20, 5)\n",
    "\n",
    "print(li)\n",
    "print(a)\n",
    "print(b)"
   ]
  },
  {
   "cell_type": "code",
   "execution_count": 10,
   "id": "1858646f",
   "metadata": {},
   "outputs": [
    {
     "data": {
      "text/plain": [
       "[3, 4, 5, 6, 7]"
      ]
     },
     "execution_count": 10,
     "metadata": {},
     "output_type": "execute_result"
    }
   ],
   "source": [
    "li = [i+1 for i in li]\n",
    "li"
   ]
  },
  {
   "cell_type": "code",
   "execution_count": 17,
   "id": "4f5b3dca",
   "metadata": {},
   "outputs": [
    {
     "data": {
      "text/plain": [
       "array([ 7, 16, 14, 20, 24])"
      ]
     },
     "execution_count": 17,
     "metadata": {},
     "output_type": "execute_result"
    }
   ],
   "source": [
    "a = a + 1\n",
    "a"
   ]
  },
  {
   "cell_type": "code",
   "execution_count": 19,
   "id": "80e68af6",
   "metadata": {},
   "outputs": [
    {
     "data": {
      "text/plain": [
       "array([19, 27, 25, 24, 40])"
      ]
     },
     "execution_count": 19,
     "metadata": {},
     "output_type": "execute_result"
    }
   ],
   "source": [
    "c = a + b\n",
    "c"
   ]
  },
  {
   "cell_type": "code",
   "execution_count": 20,
   "id": "85a6ce9f",
   "metadata": {},
   "outputs": [
    {
     "data": {
      "text/plain": [
       "array([-5,  5,  3, 16,  8])"
      ]
     },
     "execution_count": 20,
     "metadata": {},
     "output_type": "execute_result"
    }
   ],
   "source": [
    "d = a - b\n",
    "d\n"
   ]
  },
  {
   "cell_type": "code",
   "execution_count": 22,
   "id": "d366b981",
   "metadata": {},
   "outputs": [
    {
     "data": {
      "text/plain": [
       "array([ 84, 176, 154,  80, 384])"
      ]
     },
     "execution_count": 22,
     "metadata": {},
     "output_type": "execute_result"
    }
   ],
   "source": [
    "e = a * b\n",
    "e"
   ]
  },
  {
   "cell_type": "code",
   "execution_count": 23,
   "id": "f6694fa1",
   "metadata": {},
   "outputs": [
    {
     "data": {
      "text/plain": [
       "array([ 0.58333333,  1.45454545,  1.27272727,  5.        ,  1.5       ])"
      ]
     },
     "execution_count": 23,
     "metadata": {},
     "output_type": "execute_result"
    }
   ],
   "source": [
    "f = a / b\n",
    "f"
   ]
  },
  {
   "cell_type": "code",
   "execution_count": 24,
   "id": "f60b782f",
   "metadata": {},
   "outputs": [
    {
     "data": {
      "text/plain": [
       "array([0, 1, 1, 5, 1])"
      ]
     },
     "execution_count": 24,
     "metadata": {},
     "output_type": "execute_result"
    }
   ],
   "source": [
    "g = a // b\n",
    "g"
   ]
  },
  {
   "cell_type": "code",
   "execution_count": 25,
   "id": "e8f79469",
   "metadata": {},
   "outputs": [
    {
     "data": {
      "text/plain": [
       "array([         13841287201,       17592186044416,        4049565169664,\n",
       "                     160000, -2936065482068852736])"
      ]
     },
     "execution_count": 25,
     "metadata": {},
     "output_type": "execute_result"
    }
   ],
   "source": [
    "h = a ** b\n",
    "h"
   ]
  },
  {
   "cell_type": "code",
   "execution_count": 32,
   "id": "68ec8488",
   "metadata": {},
   "outputs": [
    {
     "name": "stdout",
     "output_type": "stream",
     "text": [
      "[ 7 16 14 20 24]\n",
      "81\n",
      "16.2\n",
      "7\n",
      "0\n",
      "24\n",
      "4\n"
     ]
    }
   ],
   "source": [
    "print(a)\n",
    "print(a.sum())\n",
    "print(a.mean())\n",
    "print(a.min())\n",
    "print(a.argmin())\n",
    "print(a.max())\n",
    "print(a.argmax())"
   ]
  },
  {
   "cell_type": "code",
   "execution_count": 34,
   "id": "2e84164f",
   "metadata": {},
   "outputs": [
    {
     "name": "stdout",
     "output_type": "stream",
     "text": [
      "[ 7 16 14 20 24]\n",
      "[12 11 11  4 16]\n"
     ]
    }
   ],
   "source": [
    "print(a)\n",
    "print(b)"
   ]
  },
  {
   "cell_type": "code",
   "execution_count": 36,
   "id": "b80aa08c",
   "metadata": {},
   "outputs": [
    {
     "data": {
      "text/plain": [
       "array([False,  True,  True,  True,  True], dtype=bool)"
      ]
     },
     "execution_count": 36,
     "metadata": {},
     "output_type": "execute_result"
    }
   ],
   "source": [
    "a > b"
   ]
  },
  {
   "cell_type": "code",
   "execution_count": 37,
   "id": "456af674",
   "metadata": {},
   "outputs": [
    {
     "data": {
      "text/plain": [
       "array([ True, False, False, False, False], dtype=bool)"
      ]
     },
     "execution_count": 37,
     "metadata": {},
     "output_type": "execute_result"
    }
   ],
   "source": [
    "a < b"
   ]
  },
  {
   "cell_type": "code",
   "execution_count": 38,
   "id": "04e42709",
   "metadata": {},
   "outputs": [
    {
     "data": {
      "text/plain": [
       "array([False, False, False, False, False], dtype=bool)"
      ]
     },
     "execution_count": 38,
     "metadata": {},
     "output_type": "execute_result"
    }
   ],
   "source": [
    "a == b"
   ]
  },
  {
   "cell_type": "code",
   "execution_count": 40,
   "id": "3a606712",
   "metadata": {},
   "outputs": [
    {
     "name": "stdout",
     "output_type": "stream",
     "text": [
      "[ True  True  True  True  True]\n",
      "[ True  True  True  True  True]\n"
     ]
    }
   ],
   "source": [
    "print(np.logical_or(a, b))\n",
    "print(np.logical_and(a, b))\n"
   ]
  },
  {
   "cell_type": "code",
   "execution_count": 42,
   "id": "29b92f58",
   "metadata": {},
   "outputs": [
    {
     "name": "stdout",
     "output_type": "stream",
     "text": [
      "[ 7 16  0 20 24]\n",
      "[False False  True False False]\n"
     ]
    }
   ],
   "source": [
    "a[2] = 0\n",
    "print(a)\n",
    "print(np.logical_not(a))"
   ]
  },
  {
   "cell_type": "markdown",
   "id": "c07db3e4",
   "metadata": {},
   "source": [
    "# Boolean Indexing - 1D"
   ]
  },
  {
   "cell_type": "code",
   "execution_count": 8,
   "id": "8c2e6bcc",
   "metadata": {},
   "outputs": [
    {
     "name": "stdout",
     "output_type": "stream",
     "text": [
      "['t' 'b' 'r' 'd' 'e' 'f' 'z' 'a']\n",
      "[14 12  7  3 19 19  3  5]\n"
     ]
    }
   ],
   "source": [
    "import numpy as np\n",
    "\n",
    "a = np.array(['t', 'b', 'r', 'd', 'e', 'f', 'z', 'a'])\n",
    "b = np.random.randint(1, 20, 8)\n",
    "\n",
    "print(a)\n",
    "print(b)"
   ]
  },
  {
   "cell_type": "code",
   "execution_count": 10,
   "id": "085d9092",
   "metadata": {},
   "outputs": [
    {
     "name": "stdout",
     "output_type": "stream",
     "text": [
      "[ True  True False False  True  True False False]\n"
     ]
    }
   ],
   "source": [
    "print(b > 10)"
   ]
  },
  {
   "cell_type": "code",
   "execution_count": 13,
   "id": "dc9206b2",
   "metadata": {},
   "outputs": [
    {
     "name": "stdout",
     "output_type": "stream",
     "text": [
      "[ True  True False False  True  True False False]\n",
      "[14 12 19 19]\n"
     ]
    }
   ],
   "source": [
    "bool_arr = b > 10\n",
    "print(bool_arr)\n",
    "new_arr = b[bool_arr]\n",
    "print(new_arr)"
   ]
  },
  {
   "cell_type": "code",
   "execution_count": 15,
   "id": "26c4fdfa",
   "metadata": {},
   "outputs": [
    {
     "data": {
      "text/plain": [
       "array([14, 12, 19, 19])"
      ]
     },
     "execution_count": 15,
     "metadata": {},
     "output_type": "execute_result"
    }
   ],
   "source": [
    "new_arr = b[b > 10]\n",
    "new_arr"
   ]
  },
  {
   "cell_type": "code",
   "execution_count": 17,
   "id": "f8feffb1",
   "metadata": {},
   "outputs": [
    {
     "data": {
      "text/plain": [
       "array([14, 12])"
      ]
     },
     "execution_count": 17,
     "metadata": {},
     "output_type": "execute_result"
    }
   ],
   "source": [
    "new_arr = b[(b > 10) & (b < 18)]\n",
    "new_arr"
   ]
  },
  {
   "cell_type": "code",
   "execution_count": 21,
   "id": "9975edb0",
   "metadata": {},
   "outputs": [
    {
     "name": "stdout",
     "output_type": "stream",
     "text": [
      "[14 12  7  3 19 19  3  5]\n"
     ]
    },
    {
     "data": {
      "text/plain": [
       "array([14, 12,  7,  3, 19, 19,  3,  5])"
      ]
     },
     "execution_count": 21,
     "metadata": {},
     "output_type": "execute_result"
    }
   ],
   "source": [
    "print(b)\n",
    "c = b\n",
    "c"
   ]
  },
  {
   "cell_type": "code",
   "execution_count": 25,
   "id": "4281b5ea",
   "metadata": {},
   "outputs": [
    {
     "name": "stdout",
     "output_type": "stream",
     "text": [
      "[ 19  19  19   3 100 100   3   5]\n"
     ]
    },
    {
     "data": {
      "text/plain": [
       "array([100, 100, 100,   3, 100, 100,   3,   5])"
      ]
     },
     "execution_count": 25,
     "metadata": {},
     "output_type": "execute_result"
    }
   ],
   "source": [
    "c[:3] = 19\n",
    "print(c)\n",
    "c[c > 15] = 100\n",
    "c"
   ]
  },
  {
   "cell_type": "code",
   "execution_count": 26,
   "id": "2907e019",
   "metadata": {},
   "outputs": [
    {
     "name": "stdout",
     "output_type": "stream",
     "text": [
      "[100 100 100   3 100 100   3   5]\n"
     ]
    }
   ],
   "source": [
    "print(b)\n"
   ]
  },
  {
   "cell_type": "code",
   "execution_count": 27,
   "id": "fed13376",
   "metadata": {},
   "outputs": [
    {
     "name": "stdout",
     "output_type": "stream",
     "text": [
      "[100 100 100 100 100]\n"
     ]
    }
   ],
   "source": [
    "print(b[b == 100])"
   ]
  },
  {
   "cell_type": "code",
   "execution_count": 28,
   "id": "a49fca1e",
   "metadata": {},
   "outputs": [
    {
     "data": {
      "text/plain": [
       "(array([0, 1, 2, 4, 5]),)"
      ]
     },
     "execution_count": 28,
     "metadata": {},
     "output_type": "execute_result"
    }
   ],
   "source": [
    "ind = np.where(b == 100)\n",
    "ind"
   ]
  },
  {
   "cell_type": "code",
   "execution_count": 29,
   "id": "ced4d5fc",
   "metadata": {},
   "outputs": [
    {
     "name": "stdout",
     "output_type": "stream",
     "text": [
      "['t' 'b' 'r' 'd' 'e' 'f' 'z' 'a']\n",
      "[100 100 100   3 100 100   3   5]\n"
     ]
    }
   ],
   "source": [
    "rint(a)\n",
    "print(b)"
   ]
  },
  {
   "cell_type": "code",
   "execution_count": 33,
   "id": "8e4776cb",
   "metadata": {},
   "outputs": [
    {
     "name": "stdout",
     "output_type": "stream",
     "text": [
      "(array([0, 1, 2, 4, 5]),)\n",
      "['t' 'b' 'r' 'e' 'f']\n"
     ]
    }
   ],
   "source": [
    "ind = np.where(b == 100)\n",
    "print(ind)\n",
    "print(a[ind])"
   ]
  },
  {
   "cell_type": "markdown",
   "id": "5861bcb9",
   "metadata": {},
   "source": [
    "# Boolean Indexing - 2D"
   ]
  },
  {
   "cell_type": "code",
   "execution_count": 41,
   "id": "a215bbf5",
   "metadata": {},
   "outputs": [
    {
     "name": "stdout",
     "output_type": "stream",
     "text": [
      "[[22  1 14 14  6 18]\n",
      " [19  6 22  9 21  4]\n",
      " [20 29 28 21 25  9]\n",
      " [29 28 23 27  7 17]\n",
      " [28 15 27  6 25 23]]\n"
     ]
    }
   ],
   "source": [
    "import numpy as np\n",
    "a = np.random.randint(1, 30, (5, 6))\n",
    "print(a)"
   ]
  },
  {
   "cell_type": "code",
   "execution_count": 50,
   "id": "5095040b",
   "metadata": {},
   "outputs": [
    {
     "name": "stdout",
     "output_type": "stream",
     "text": [
      "[[ True False False False False False]\n",
      " [False False  True False  True False]\n",
      " [False  True  True  True  True False]\n",
      " [ True  True  True  True False False]\n",
      " [ True False  True False  True  True]]\n"
     ]
    }
   ],
   "source": [
    "bool_arr = a > 20\n",
    "print(bool_arr)"
   ]
  },
  {
   "cell_type": "code",
   "execution_count": 51,
   "id": "55216fe1",
   "metadata": {},
   "outputs": [
    {
     "name": "stdout",
     "output_type": "stream",
     "text": [
      "[22 22 21 29 28 21 25 29 28 23 27 28 27 25 23]\n"
     ]
    }
   ],
   "source": [
    "ans = a[bool_arr]\n",
    "print(ans)"
   ]
  },
  {
   "cell_type": "code",
   "execution_count": 53,
   "id": "9854341c",
   "metadata": {},
   "outputs": [
    {
     "name": "stdout",
     "output_type": "stream",
     "text": [
      "[[22  1 14 14  6 18]\n",
      " [19  6 22  9 21  4]\n",
      " [20 29 28 21 25  9]\n",
      " [29 28 23 27  7 17]\n",
      " [28 15 27  6 25 23]]\n"
     ]
    }
   ],
   "source": [
    "b = a\n",
    "print(a)"
   ]
  },
  {
   "cell_type": "code",
   "execution_count": 71,
   "id": "d3209646",
   "metadata": {},
   "outputs": [
    {
     "name": "stdout",
     "output_type": "stream",
     "text": [
      "[[100   1  14  14   6  18]\n",
      " [ 19   6 100   9 100   4]\n",
      " [ 20 100 100 100 100   9]\n",
      " [100 100 100 100   7  17]\n",
      " [100  15 100   6 100 100]]\n"
     ]
    }
   ],
   "source": [
    "b[bool_arr] = 100\n",
    "print(b)"
   ]
  },
  {
   "cell_type": "code",
   "execution_count": 72,
   "id": "a302eb59",
   "metadata": {},
   "outputs": [
    {
     "name": "stdout",
     "output_type": "stream",
     "text": [
      "[[4 8]\n",
      " [7 4]]\n"
     ]
    }
   ],
   "source": [
    "c = np.random.randint(1, 10, (2, 2))\n",
    "print(c)"
   ]
  },
  {
   "cell_type": "code",
   "execution_count": 74,
   "id": "7356221f",
   "metadata": {},
   "outputs": [
    {
     "name": "stdout",
     "output_type": "stream",
     "text": [
      "[[ True False]\n",
      " [False  True]\n",
      " [ True  True]]\n"
     ]
    }
   ],
   "source": [
    "c_bool = np.array([[True, False], [False, True], [True, True]])\n",
    "print(c_bool)"
   ]
  },
  {
   "cell_type": "code",
   "execution_count": 83,
   "id": "738be471",
   "metadata": {},
   "outputs": [],
   "source": [
    "#print(c[c_bool])"
   ]
  },
  {
   "cell_type": "code",
   "execution_count": 84,
   "id": "cba59960",
   "metadata": {},
   "outputs": [
    {
     "name": "stdout",
     "output_type": "stream",
     "text": [
      "[[100   1  14  14   6  18]\n",
      " [ 19   6 100   9 100   4]\n",
      " [ 20 100 100 100 100   9]\n",
      " [100 100 100 100   7  17]\n",
      " [100  15 100   6 100 100]]\n"
     ]
    }
   ],
   "source": [
    "print(b)"
   ]
  },
  {
   "cell_type": "code",
   "execution_count": 85,
   "id": "068a3cd6",
   "metadata": {},
   "outputs": [
    {
     "name": "stdout",
     "output_type": "stream",
     "text": [
      "[False False  True  True False]\n"
     ]
    }
   ],
   "source": [
    "bool_arr = b[:, 3] == 100\n",
    "print(bool_arr)"
   ]
  },
  {
   "cell_type": "code",
   "execution_count": 86,
   "id": "7790d3ee",
   "metadata": {},
   "outputs": [
    {
     "name": "stdout",
     "output_type": "stream",
     "text": [
      "[[100   1  14  14   6  18]\n",
      " [ 19   6 100   9 100   4]\n",
      " [ 20 100 100  99 100   9]\n",
      " [100 100 100  99   7  17]\n",
      " [100  15 100   6 100 100]]\n"
     ]
    }
   ],
   "source": [
    "b[bool_arr, 3] = 99\n",
    "print(b)"
   ]
  },
  {
   "cell_type": "code",
   "execution_count": null,
   "id": "60670da0",
   "metadata": {
    "collapsed": true
   },
   "outputs": [],
   "source": []
  },
  {
   "cell_type": "markdown",
   "id": "c03b61a1",
   "metadata": {
    "collapsed": true
   },
   "source": [
    "# NumPy Broadcasting"
   ]
  },
  {
   "cell_type": "code",
   "execution_count": 146,
   "id": "2ca02d03",
   "metadata": {},
   "outputs": [
    {
     "data": {
      "text/plain": [
       "<matplotlib.image.AxesImage at 0x2732dc69dd0>"
      ]
     },
     "execution_count": 146,
     "metadata": {},
     "output_type": "execute_result"
    },
    {
     "data": {
      "image/png": "[encoded data removed]",
      "text/plain": [
       "<Figure size 640x480 with 1 Axes>"
      ]
     },
     "metadata": {},
     "output_type": "display_data"
    }
   ],
   "source": [
    "from skimage import io\n",
    "img = io.imread(\"rwb.png\")\n",
    "io.imshow(img)\n",
    "\n",
    "#  in this image shows what type array size or shape is oparetionable and what not. and that's why come numpy broadcusting way"
   ]
  },
  {
   "cell_type": "code",
   "execution_count": 2,
   "id": "10889a62",
   "metadata": {},
   "outputs": [
    {
     "name": "stdout",
     "output_type": "stream",
     "text": [
      "[[4 5 2]\n",
      " [7 8 5]\n",
      " [2 4 2]]\n",
      "[[3 3 4]\n",
      " [7 1 6]\n",
      " [2 7 3]]\n"
     ]
    }
   ],
   "source": [
    "import numpy as np\n",
    "\n",
    "x = np.random.randint(1, 10, (3, 3))\n",
    "y = np.random.randint(1, 10, (3, 3))\n",
    "print(x)\n",
    "print(y)"
   ]
  },
  {
   "cell_type": "code",
   "execution_count": 4,
   "id": "376f9e5d",
   "metadata": {},
   "outputs": [
    {
     "name": "stdout",
     "output_type": "stream",
     "text": [
      "[[ 1  2 -2]\n",
      " [ 0  7 -1]\n",
      " [ 0 -3 -1]]\n"
     ]
    }
   ],
   "source": [
    "ans = x - y\n",
    "print(ans)"
   ]
  },
  {
   "cell_type": "code",
   "execution_count": 5,
   "id": "13dacf31",
   "metadata": {},
   "outputs": [
    {
     "name": "stdout",
     "output_type": "stream",
     "text": [
      "[[7 7 5]\n",
      " [9 4 2]\n",
      " [5 7 5]]\n",
      "[1 6 7]\n"
     ]
    }
   ],
   "source": [
    "x = np.random.randint(1, 10, (3, 3))\n",
    "y = np.random.randint(1, 10, (3))\n",
    "print(x)\n",
    "print(y)"
   ]
  },
  {
   "cell_type": "code",
   "execution_count": 6,
   "id": "5cdc8e14",
   "metadata": {},
   "outputs": [
    {
     "name": "stdout",
     "output_type": "stream",
     "text": [
      "[[ 6  1 -2]\n",
      " [ 8 -2 -5]\n",
      " [ 4  1 -2]]\n"
     ]
    }
   ],
   "source": [
    "ans = x - y\n",
    "print(ans)"
   ]
  },
  {
   "cell_type": "code",
   "execution_count": 7,
   "id": "4cf58a7e",
   "metadata": {},
   "outputs": [
    {
     "name": "stdout",
     "output_type": "stream",
     "text": [
      "[[3 4]\n",
      " [1 3]\n",
      " [7 7]]\n",
      "[[1 2 4]\n",
      " [6 4 6]]\n"
     ]
    }
   ],
   "source": [
    "x = np.random.randint(1, 10, (3, 2))\n",
    "y = np.random.randint(1, 10, (2, 3))\n",
    "print(x)\n",
    "print(y)"
   ]
  },
  {
   "cell_type": "code",
   "execution_count": 9,
   "id": "c9cb23f5",
   "metadata": {},
   "outputs": [
    {
     "name": "stdout",
     "output_type": "stream",
     "text": [
      "[[1 6]\n",
      " [2 4]\n",
      " [4 6]]\n",
      "[[ 2 -2]\n",
      " [-1 -1]\n",
      " [ 3  1]]\n"
     ]
    }
   ],
   "source": [
    "y = np.transpose(y)\n",
    "print(y)\n",
    "ans = x - y\n",
    "print(ans)"
   ]
  },
  {
   "cell_type": "code",
   "execution_count": 147,
   "id": "790bee06",
   "metadata": {},
   "outputs": [
    {
     "data": {
      "text/plain": [
       "<matplotlib.image.AxesImage at 0x2732e0c9790>"
      ]
     },
     "execution_count": 147,
     "metadata": {},
     "output_type": "execute_result"
    },
    {
     "data": {
      "image/png": "[encoded data removed]",
      "text/plain": [
       "<Figure size 640x480 with 1 Axes>"
      ]
     },
     "metadata": {},
     "output_type": "display_data"
    }
   ],
   "source": [
    "from skimage import io\n",
    "img = io.imread(\"rwb2.png\")\n",
    "io.imshow(img)"
   ]
  }
 ],
 "metadata": {
  "kernelspec": {
   "display_name": "Python 3 (ipykernel)",
   "language": "python",
   "name": "python3"
  },
  "language_info": {
   "codemirror_mode": {
    "name": "ipython",
    "version": 3
   },
   "file_extension": ".py",
   "mimetype": "text/x-python",
   "name": "python",
   "nbconvert_exporter": "python",
   "pygments_lexer": "ipython3",
   "version": "3.11.7"
  }
 },
 "nbformat": 4,
 "nbformat_minor": 5
}
